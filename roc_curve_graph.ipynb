{
 "cells": [
  {
   "cell_type": "markdown",
   "metadata": {},
   "source": [
    "# roc curve graph\n",
    "test differnt plots for roc curves and show the *AUC* for these\n",
    "\n",
    "### 2 cases\n",
    "* Good algorithms\n",
    "* Random algorithms"
   ]
  },
  {
   "cell_type": "code",
   "execution_count": 105,
   "metadata": {
    "collapsed": false
   },
   "outputs": [
    {
     "data": {
      "application/javascript": [
       "IPython.notebook.set_autosave_interval(180000)"
      ]
     },
     "metadata": {},
     "output_type": "display_data"
    },
    {
     "name": "stdout",
     "output_type": "stream",
     "text": [
      "Autosaving every 180 seconds\n",
      "Populating the interactive namespace from numpy and matplotlib\n"
     ]
    },
    {
     "name": "stderr",
     "output_type": "stream",
     "text": [
      "/Users/jampper/Virtualenvs/sklearn-dv/lib/python3.5/site-packages/IPython/core/magics/pylab.py:161: UserWarning: pylab import has clobbered these variables: ['random']\n",
      "`%matplotlib` prevents importing * from pylab and numpy\n",
      "  \"\\n`%matplotlib` prevents importing * from pylab and numpy\"\n"
     ]
    }
   ],
   "source": [
    "## seteamos los parametros del notebook\n",
    "%autosave 180\n",
    "%matplotlib inline\n",
    "import matplotlib.pyplot as plt\n",
    "%pylab inline\n",
    "import pandas as pd; \n",
    "import numpy as np; \n",
    "import os;\n",
    "import random;\n",
    "import time\n",
    "import seaborn as sns\n",
    "\n",
    "np.random.seed(2015)\n",
    "project_dir = os.getcwd().split('/')\n",
    "project_dir = \"/\".join(project_dir[:project_dir.index('authorea')+1])\n",
    "os.chdir(project_dir)"
   ]
  },
  {
   "cell_type": "code",
   "execution_count": 106,
   "metadata": {
    "collapsed": false
   },
   "outputs": [
    {
     "name": "stdout",
     "output_type": "stream",
     "text": [
      "ASDFSFD__.tex\r\n",
      "Expect_calG_calN_calE_calL__.tex\r\n",
      "Pi_Pi_Pi__.tex\r\n",
      "Random_Forests_are_a_special__.tex\r\n",
      "asdf__.tex\r\n",
      "\u001b[36mbibliography\u001b[m\u001b[m\r\n",
      "\u001b[36mfigures\u001b[m\u001b[m\r\n",
      "header.tex\r\n",
      "\u001b[36mimages\u001b[m\u001b[m\r\n",
      "layout.md\r\n",
      "o_As_we_know_the__.tex\r\n",
      "roc_curve_graph.ipynb\r\n",
      "section_Brief_introduction_to_machine__1.tex\r\n",
      "section_Datasources_subsection_Argentina_subsection__.tex\r\n",
      "section_Gradient_Boosting_Variation_subsection__.tex\r\n",
      "section_Introduction_section_Datasource__.tex\r\n",
      "section_Introduction_textbf_TODO_LO__1.tex\r\n",
      "section_Machine_Learning_in_Practice__.tex\r\n",
      "section_Meta_Section_Writing_plan__.tex\r\n",
      "subsection_Classification_Scoring_Metrics_Metrics__.tex\r\n",
      "subsection_Cross_Validation_textbf_Cross__.tex\r\n",
      "subsubsection_A_working_example_For__.tex\r\n",
      "textbf_ACA_ARRANCAN_LAS_DESCRIPCIONES__.tex\r\n",
      "textbf_Overfitting_subsection_Brief_comment__.tex\r\n",
      "title.tex\r\n",
      "trash.aux\r\n",
      "trash.log\r\n",
      "trash.out\r\n",
      "trash.pdf\r\n",
      "trash.synctex.gz\r\n",
      "trash.tex\r\n",
      "vaIn_ref_figure_biasVariance_Hastie__.tex\r\n"
     ]
    }
   ],
   "source": [
    "!ls"
   ]
  },
  {
   "cell_type": "code",
   "execution_count": 263,
   "metadata": {
    "collapsed": false
   },
   "outputs": [],
   "source": [
    "from itertools import cycle\n",
    "\n",
    "from sklearn import svm, datasets\n",
    "from sklearn.metrics import roc_curve, auc\n",
    "from sklearn.model_selection import train_test_split, GridSearchCV\n",
    "from sklearn.preprocessing import label_binarize\n",
    "from sklearn.cross_validation import *\n",
    "from sklearn.linear_model import *\n",
    "from sklearn.ensemble import *\n",
    "from sklearn.preprocessing import *\n",
    "from sklearn.naive_bayes import *\n",
    "\n",
    "#from sklearn.multiclass import OneVsRestClassifier\n",
    "from scipy import interp\n",
    "\n",
    "# Import some data to play with\n",
    "cancer = datasets.load_breast_cancer()\n",
    "X = cancer.data\n",
    "y = cancer.target\n",
    "#y = label_binarize(y, classes=[0, 1,2])"
   ]
  },
  {
   "cell_type": "code",
   "execution_count": 264,
   "metadata": {
    "collapsed": false
   },
   "outputs": [
    {
     "data": {
      "text/plain": [
       "((569, 30), (569,))"
      ]
     },
     "execution_count": 264,
     "metadata": {},
     "output_type": "execute_result"
    }
   ],
   "source": [
    "X.shape, y.shape"
   ]
  },
  {
   "cell_type": "markdown",
   "metadata": {},
   "source": [
    "### random noise"
   ]
  },
  {
   "cell_type": "code",
   "execution_count": 265,
   "metadata": {
    "collapsed": false
   },
   "outputs": [],
   "source": [
    "n_classes = 2#y.shape[1]\n",
    "\n",
    "# Get new dataset with noisy features to make the problem harder\n",
    "random_state = np.random.RandomState(0)\n",
    "n_samples, n_features = X.shape\n",
    "X_noise = np.c_[X, random_state.randn(n_samples, 200 * n_features)]"
   ]
  },
  {
   "cell_type": "markdown",
   "metadata": {},
   "source": [
    "# Classify on original X"
   ]
  },
  {
   "cell_type": "code",
   "execution_count": 266,
   "metadata": {
    "collapsed": true
   },
   "outputs": [],
   "source": [
    "## split train test"
   ]
  },
  {
   "cell_type": "code",
   "execution_count": 267,
   "metadata": {
    "collapsed": true
   },
   "outputs": [],
   "source": [
    "# shuffle and split training and test sets\n",
    "X_train, X_test, y_train, y_test = train_test_split(X, y, test_size=.2,\n",
    "                                                    random_state=0)\n",
    "\n",
    "\n",
    "X_train = pd.DataFrame(X_train) \n",
    "X_test = pd.DataFrame(X_test)\n",
    "#X_test = pd.DataFrame(X_test)"
   ]
  },
  {
   "cell_type": "markdown",
   "metadata": {},
   "source": [
    "## Poly , scaled features"
   ]
  },
  {
   "cell_type": "code",
   "execution_count": 268,
   "metadata": {
    "collapsed": true
   },
   "outputs": [],
   "source": [
    "def get_X_files(tables, scaled=False, poly2=False):\n",
    "    #como input tiene que ir una lista de tables donde la tabla donde se fitea todo viene PRIMERA, i.e. en la pos 0\n",
    "    #tiene que suceder que haya consistencia entre las columnas de c/dataframe tambien\n",
    "    train_table = tables[0]\n",
    "    \n",
    "    categorical_cols = []\n",
    "    count_time_cols = [col for col in train_table.columns]\n",
    "    \n",
    "    print(\"First input dataframe is %s big\" % str(train_table.shape))\n",
    "    #print(\"Test dataframe is %s big\" % str(test_table.shape))\n",
    "    \n",
    "\n",
    "    \n",
    "    if scaled ==True :\n",
    "            min_max_scaler = MinMaxScaler().fit(train_table)\n",
    "            train_table = min_max_scaler.transform(train_table)\n",
    "    \n",
    "    #hacemos interacciones polinomiales sobre las columnas de count/time\n",
    "    if poly2 == True:\n",
    "        #pensar que hacer polynomial features es masomenos como agregar nˆ2 nuevas columnas\n",
    "        #con lo cual tenemos que tener cuidado en no reventar la memoria, ponemor las primeras 50 columnas \n",
    "        #como tope para aplicar interacciones polinomiales\n",
    "\n",
    "        poly2_transform = PolynomialFeatures(degree=2, interaction_only=False, include_bias=False)\n",
    "        max_cols = 30\n",
    "\n",
    "        if  (train_table.shape[1] <= max_cols):\n",
    "            max_cols = train_table.shape[1]\n",
    "        poly2_transform.fit(train_table[:,0:max_cols])\n",
    "\n",
    "        train_table = poly2_transform.transform(train_table[:,0:max_cols])\n",
    "    \n",
    "    print(\"Processed input dataframe is %s big\" % str(X_train.shape))\n",
    "    \n",
    "    processed_tables = [pd.DataFrame(train_table)]\n",
    "    \n",
    "    #aca basicamente replicamos lo anterior pero para todo el resto de las tablas y utilizando los fits que ya tenemos\n",
    "\n",
    "    for i, table in enumerate(tables):\n",
    "        # skip the X_train table which comes in the first postion and will behave as our special fitting table\n",
    "        if i ==0:\n",
    "            continue  \n",
    "        #table_categorical = table[categorical_cols].values\n",
    "        #table_count_time = table[count_time_cols].values\n",
    "        \n",
    "        if scaled ==True :\n",
    "            table = min_max_scaler.transform(table)\n",
    "\n",
    "        #hacemos interacciones polinomiales sobre las columnas de count/time\n",
    "        if poly2 == True:\n",
    "            #pensar que hacer polynomial features es masomenos como agregar nˆ2 nuevas columnas\n",
    "            #con lo cual tenemos que tener cuidado en no reventar la memoria, ponemor las primeras 50 columnas \n",
    "            #como tope para aplicar interacciones polinomiales\n",
    "\n",
    "            table = poly2_transform.transform(table)\n",
    "        \n",
    "        \n",
    "        \n",
    "        processed_tables = processed_tables + [pd.DataFrame(table)]\n",
    "    \n",
    "    for i in range(len(processed_tables)):    \n",
    "        print(\"Table {0} shape is {1}\".format( i,str(processed_tables[i].shape)))\n",
    "#        print(\"Table %s categorical shape is %s\" % str(X_val_categorical.shape))\n",
    "#        print(\"Val non-categorical shape is %s\" % str(X_val_count_time.shape))\n",
    "#        print(\"Val categorical shape is %s\" % str(X_val_categorical.shape))\n",
    "    \n",
    "    return tuple(processed_tables)\n",
    "    "
   ]
  },
  {
   "cell_type": "code",
   "execution_count": 269,
   "metadata": {
    "collapsed": false
   },
   "outputs": [
    {
     "data": {
      "text/plain": [
       "(pandas.core.frame.DataFrame, pandas.core.frame.DataFrame)"
      ]
     },
     "execution_count": 269,
     "metadata": {},
     "output_type": "execute_result"
    }
   ],
   "source": [
    "type(X_train), type(X_test)"
   ]
  },
  {
   "cell_type": "code",
   "execution_count": 270,
   "metadata": {
    "collapsed": false,
    "scrolled": true
   },
   "outputs": [
    {
     "name": "stdout",
     "output_type": "stream",
     "text": [
      "First input dataframe is (455, 30) big\n",
      "Processed input dataframe is (455, 30) big\n",
      "Table 0 shape is (455, 30)\n",
      "Table 1 shape is (114, 30)\n"
     ]
    }
   ],
   "source": [
    "X_train,X_test = get_X_files([X_train,X_test], scaled=True, poly2=False)"
   ]
  },
  {
   "cell_type": "code",
   "execution_count": 271,
   "metadata": {
    "collapsed": false,
    "scrolled": false
   },
   "outputs": [
    {
     "data": {
      "text/html": [
       "<div>\n",
       "<table border=\"1\" class=\"dataframe\">\n",
       "  <thead>\n",
       "    <tr style=\"text-align: right;\">\n",
       "      <th></th>\n",
       "      <th>0</th>\n",
       "      <th>1</th>\n",
       "      <th>2</th>\n",
       "      <th>3</th>\n",
       "      <th>4</th>\n",
       "      <th>5</th>\n",
       "      <th>6</th>\n",
       "      <th>7</th>\n",
       "      <th>8</th>\n",
       "      <th>9</th>\n",
       "      <th>...</th>\n",
       "      <th>21</th>\n",
       "      <th>22</th>\n",
       "      <th>23</th>\n",
       "      <th>24</th>\n",
       "      <th>25</th>\n",
       "      <th>26</th>\n",
       "      <th>27</th>\n",
       "      <th>28</th>\n",
       "      <th>29</th>\n",
       "      <th>y</th>\n",
       "    </tr>\n",
       "  </thead>\n",
       "  <tbody>\n",
       "    <tr>\n",
       "      <th>0</th>\n",
       "      <td>1.000000</td>\n",
       "      <td>0.316083</td>\n",
       "      <td>0.998185</td>\n",
       "      <td>0.987094</td>\n",
       "      <td>0.164226</td>\n",
       "      <td>0.508985</td>\n",
       "      <td>0.669625</td>\n",
       "      <td>0.823662</td>\n",
       "      <td>0.130193</td>\n",
       "      <td>0.330992</td>\n",
       "      <td>...</td>\n",
       "      <td>0.281647</td>\n",
       "      <td>0.966220</td>\n",
       "      <td>0.941185</td>\n",
       "      <td>0.116935</td>\n",
       "      <td>0.403744</td>\n",
       "      <td>0.511501</td>\n",
       "      <td>0.736397</td>\n",
       "      <td>0.149669</td>\n",
       "      <td>0.004484</td>\n",
       "      <td>0.724320</td>\n",
       "    </tr>\n",
       "    <tr>\n",
       "      <th>1</th>\n",
       "      <td>0.316083</td>\n",
       "      <td>1.000000</td>\n",
       "      <td>0.322445</td>\n",
       "      <td>0.318626</td>\n",
       "      <td>0.023107</td>\n",
       "      <td>0.241977</td>\n",
       "      <td>0.298975</td>\n",
       "      <td>0.292473</td>\n",
       "      <td>0.064376</td>\n",
       "      <td>0.071964</td>\n",
       "      <td>...</td>\n",
       "      <td>0.908182</td>\n",
       "      <td>0.354636</td>\n",
       "      <td>0.348051</td>\n",
       "      <td>0.093454</td>\n",
       "      <td>0.273151</td>\n",
       "      <td>0.298302</td>\n",
       "      <td>0.289088</td>\n",
       "      <td>0.098803</td>\n",
       "      <td>0.115940</td>\n",
       "      <td>0.409289</td>\n",
       "    </tr>\n",
       "    <tr>\n",
       "      <th>2</th>\n",
       "      <td>0.998185</td>\n",
       "      <td>0.322445</td>\n",
       "      <td>1.000000</td>\n",
       "      <td>0.986692</td>\n",
       "      <td>0.197597</td>\n",
       "      <td>0.555299</td>\n",
       "      <td>0.705993</td>\n",
       "      <td>0.850247</td>\n",
       "      <td>0.161548</td>\n",
       "      <td>0.286012</td>\n",
       "      <td>...</td>\n",
       "      <td>0.288406</td>\n",
       "      <td>0.970507</td>\n",
       "      <td>0.941920</td>\n",
       "      <td>0.145972</td>\n",
       "      <td>0.442236</td>\n",
       "      <td>0.545424</td>\n",
       "      <td>0.762361</td>\n",
       "      <td>0.171204</td>\n",
       "      <td>0.035518</td>\n",
       "      <td>0.736496</td>\n",
       "    </tr>\n",
       "  </tbody>\n",
       "</table>\n",
       "<p>3 rows × 31 columns</p>\n",
       "</div>"
      ],
      "text/plain": [
       "          0         1         2         3         4         5         6  \\\n",
       "0  1.000000  0.316083  0.998185  0.987094  0.164226  0.508985  0.669625   \n",
       "1  0.316083  1.000000  0.322445  0.318626  0.023107  0.241977  0.298975   \n",
       "2  0.998185  0.322445  1.000000  0.986692  0.197597  0.555299  0.705993   \n",
       "\n",
       "          7         8         9    ...           21        22        23  \\\n",
       "0  0.823662  0.130193  0.330992    ...     0.281647  0.966220  0.941185   \n",
       "1  0.292473  0.064376  0.071964    ...     0.908182  0.354636  0.348051   \n",
       "2  0.850247  0.161548  0.286012    ...     0.288406  0.970507  0.941920   \n",
       "\n",
       "         24        25        26        27        28        29         y  \n",
       "0  0.116935  0.403744  0.511501  0.736397  0.149669  0.004484  0.724320  \n",
       "1  0.093454  0.273151  0.298302  0.289088  0.098803  0.115940  0.409289  \n",
       "2  0.145972  0.442236  0.545424  0.762361  0.171204  0.035518  0.736496  \n",
       "\n",
       "[3 rows x 31 columns]"
      ]
     },
     "execution_count": 271,
     "metadata": {},
     "output_type": "execute_result"
    }
   ],
   "source": [
    "y_series = pd.Series(y_train)\n",
    "y_series.name = 'y'\n",
    "\n",
    "corr_matrix = abs(pd.concat([X_train,y_series],axis=1).corr())\n",
    "corr_matrix.head(3)"
   ]
  },
  {
   "cell_type": "code",
   "execution_count": 272,
   "metadata": {
    "collapsed": false,
    "scrolled": true
   },
   "outputs": [
    {
     "data": {
      "text/plain": [
       "(16, 31)"
      ]
     },
     "execution_count": 272,
     "metadata": {},
     "output_type": "execute_result"
    }
   ],
   "source": [
    "with_target_correlation = corr_matrix[corr_matrix['y']>0.5]\n",
    "with_target_correlation.shape"
   ]
  },
  {
   "cell_type": "code",
   "execution_count": 273,
   "metadata": {
    "collapsed": false
   },
   "outputs": [
    {
     "data": {
      "text/html": [
       "<div>\n",
       "<table border=\"1\" class=\"dataframe\">\n",
       "  <thead>\n",
       "    <tr style=\"text-align: right;\">\n",
       "      <th></th>\n",
       "      <th>0</th>\n",
       "      <th>1</th>\n",
       "      <th>2</th>\n",
       "      <th>3</th>\n",
       "      <th>4</th>\n",
       "      <th>5</th>\n",
       "      <th>6</th>\n",
       "      <th>7</th>\n",
       "      <th>8</th>\n",
       "      <th>9</th>\n",
       "      <th>...</th>\n",
       "      <th>21</th>\n",
       "      <th>22</th>\n",
       "      <th>23</th>\n",
       "      <th>24</th>\n",
       "      <th>25</th>\n",
       "      <th>26</th>\n",
       "      <th>27</th>\n",
       "      <th>28</th>\n",
       "      <th>29</th>\n",
       "      <th>y</th>\n",
       "    </tr>\n",
       "  </thead>\n",
       "  <tbody>\n",
       "    <tr>\n",
       "      <th>0</th>\n",
       "      <td>1.000000</td>\n",
       "      <td>0.316083</td>\n",
       "      <td>0.998185</td>\n",
       "      <td>0.987094</td>\n",
       "      <td>0.164226</td>\n",
       "      <td>0.508985</td>\n",
       "      <td>0.669625</td>\n",
       "      <td>0.823662</td>\n",
       "      <td>0.130193</td>\n",
       "      <td>0.330992</td>\n",
       "      <td>...</td>\n",
       "      <td>0.281647</td>\n",
       "      <td>0.966220</td>\n",
       "      <td>0.941185</td>\n",
       "      <td>0.116935</td>\n",
       "      <td>0.403744</td>\n",
       "      <td>0.511501</td>\n",
       "      <td>0.736397</td>\n",
       "      <td>0.149669</td>\n",
       "      <td>0.004484</td>\n",
       "      <td>0.724320</td>\n",
       "    </tr>\n",
       "    <tr>\n",
       "      <th>2</th>\n",
       "      <td>0.998185</td>\n",
       "      <td>0.322445</td>\n",
       "      <td>1.000000</td>\n",
       "      <td>0.986692</td>\n",
       "      <td>0.197597</td>\n",
       "      <td>0.555299</td>\n",
       "      <td>0.705993</td>\n",
       "      <td>0.850247</td>\n",
       "      <td>0.161548</td>\n",
       "      <td>0.286012</td>\n",
       "      <td>...</td>\n",
       "      <td>0.288406</td>\n",
       "      <td>0.970507</td>\n",
       "      <td>0.941920</td>\n",
       "      <td>0.145972</td>\n",
       "      <td>0.442236</td>\n",
       "      <td>0.545424</td>\n",
       "      <td>0.762361</td>\n",
       "      <td>0.171204</td>\n",
       "      <td>0.035518</td>\n",
       "      <td>0.736496</td>\n",
       "    </tr>\n",
       "    <tr>\n",
       "      <th>3</th>\n",
       "      <td>0.987094</td>\n",
       "      <td>0.318626</td>\n",
       "      <td>0.986692</td>\n",
       "      <td>1.000000</td>\n",
       "      <td>0.170459</td>\n",
       "      <td>0.500276</td>\n",
       "      <td>0.679675</td>\n",
       "      <td>0.823160</td>\n",
       "      <td>0.131129</td>\n",
       "      <td>0.302548</td>\n",
       "      <td>...</td>\n",
       "      <td>0.276386</td>\n",
       "      <td>0.959382</td>\n",
       "      <td>0.958527</td>\n",
       "      <td>0.120212</td>\n",
       "      <td>0.380076</td>\n",
       "      <td>0.498019</td>\n",
       "      <td>0.712975</td>\n",
       "      <td>0.126243</td>\n",
       "      <td>0.008425</td>\n",
       "      <td>0.699521</td>\n",
       "    </tr>\n",
       "    <tr>\n",
       "      <th>5</th>\n",
       "      <td>0.508985</td>\n",
       "      <td>0.241977</td>\n",
       "      <td>0.555299</td>\n",
       "      <td>0.500276</td>\n",
       "      <td>0.643792</td>\n",
       "      <td>1.000000</td>\n",
       "      <td>0.879782</td>\n",
       "      <td>0.832933</td>\n",
       "      <td>0.583548</td>\n",
       "      <td>0.540311</td>\n",
       "      <td>...</td>\n",
       "      <td>0.257121</td>\n",
       "      <td>0.583536</td>\n",
       "      <td>0.511644</td>\n",
       "      <td>0.577326</td>\n",
       "      <td>0.865480</td>\n",
       "      <td>0.818573</td>\n",
       "      <td>0.825494</td>\n",
       "      <td>0.501795</td>\n",
       "      <td>0.685937</td>\n",
       "      <td>0.612290</td>\n",
       "    </tr>\n",
       "    <tr>\n",
       "      <th>6</th>\n",
       "      <td>0.669625</td>\n",
       "      <td>0.298975</td>\n",
       "      <td>0.705993</td>\n",
       "      <td>0.679675</td>\n",
       "      <td>0.503715</td>\n",
       "      <td>0.879782</td>\n",
       "      <td>1.000000</td>\n",
       "      <td>0.914627</td>\n",
       "      <td>0.477989</td>\n",
       "      <td>0.326375</td>\n",
       "      <td>...</td>\n",
       "      <td>0.299400</td>\n",
       "      <td>0.713638</td>\n",
       "      <td>0.668894</td>\n",
       "      <td>0.442474</td>\n",
       "      <td>0.735011</td>\n",
       "      <td>0.880653</td>\n",
       "      <td>0.856157</td>\n",
       "      <td>0.387143</td>\n",
       "      <td>0.506538</td>\n",
       "      <td>0.691016</td>\n",
       "    </tr>\n",
       "  </tbody>\n",
       "</table>\n",
       "<p>5 rows × 31 columns</p>\n",
       "</div>"
      ],
      "text/plain": [
       "          0         1         2         3         4         5         6  \\\n",
       "0  1.000000  0.316083  0.998185  0.987094  0.164226  0.508985  0.669625   \n",
       "2  0.998185  0.322445  1.000000  0.986692  0.197597  0.555299  0.705993   \n",
       "3  0.987094  0.318626  0.986692  1.000000  0.170459  0.500276  0.679675   \n",
       "5  0.508985  0.241977  0.555299  0.500276  0.643792  1.000000  0.879782   \n",
       "6  0.669625  0.298975  0.705993  0.679675  0.503715  0.879782  1.000000   \n",
       "\n",
       "          7         8         9    ...           21        22        23  \\\n",
       "0  0.823662  0.130193  0.330992    ...     0.281647  0.966220  0.941185   \n",
       "2  0.850247  0.161548  0.286012    ...     0.288406  0.970507  0.941920   \n",
       "3  0.823160  0.131129  0.302548    ...     0.276386  0.959382  0.958527   \n",
       "5  0.832933  0.583548  0.540311    ...     0.257121  0.583536  0.511644   \n",
       "6  0.914627  0.477989  0.326375    ...     0.299400  0.713638  0.668894   \n",
       "\n",
       "         24        25        26        27        28        29         y  \n",
       "0  0.116935  0.403744  0.511501  0.736397  0.149669  0.004484  0.724320  \n",
       "2  0.145972  0.442236  0.545424  0.762361  0.171204  0.035518  0.736496  \n",
       "3  0.120212  0.380076  0.498019  0.712975  0.126243  0.008425  0.699521  \n",
       "5  0.577326  0.865480  0.818573  0.825494  0.501795  0.685937  0.612290  \n",
       "6  0.442474  0.735011  0.880653  0.856157  0.387143  0.506538  0.691016  \n",
       "\n",
       "[5 rows x 31 columns]"
      ]
     },
     "execution_count": 273,
     "metadata": {},
     "output_type": "execute_result"
    }
   ],
   "source": [
    "with_target_correlation.head(5)"
   ]
  },
  {
   "cell_type": "code",
   "execution_count": 307,
   "metadata": {
    "collapsed": true
   },
   "outputs": [],
   "source": [
    "# choose approximating function\n",
    "method = 'svm'\n",
    "#method = 'bnb'\n",
    "#method = 'rf'"
   ]
  },
  {
   "cell_type": "code",
   "execution_count": 308,
   "metadata": {
    "collapsed": false,
    "scrolled": true
   },
   "outputs": [
    {
     "name": "stdout",
     "output_type": "stream",
     "text": [
      "Fitting 3 folds for each of 8 candidates, totalling 24 fits\n",
      "[CV] C=0.01, kernel=rbf ..............................................\n",
      "[CV] C=0.01, kernel=rbf ..............................................\n",
      "[CV] C=0.01, kernel=linear ...........................................\n",
      "[CV] C=0.01, kernel=rbf ..............................................\n",
      "[CV] ..................................... C=0.01, kernel=rbf -   0.0s\n",
      "[CV] ..................................... C=0.01, kernel=rbf -   0.0s\n",
      "[CV] .................................. C=0.01, kernel=linear -   0.0s\n",
      "[CV] C=0.01, kernel=linear ...........................................\n",
      "[CV] C=0.01, kernel=linear ...........................................\n",
      "[CV] ..................................... C=0.01, kernel=rbf -   0.0s\n",
      "[CV] C=0.1, kernel=rbf ...............................................\n",
      "[CV] C=0.1, kernel=rbf ...............................................\n",
      "[CV] .................................. C=0.01, kernel=linear -   0.0s\n",
      "[CV] .................................. C=0.01, kernel=linear -   0.0s\n",
      "[CV] C=0.1, kernel=rbf ...............................................\n",
      "[CV] C=1.0, kernel=rbf ...............................................\n",
      "[CV] ...................................... C=1.0, kernel=rbf -   0.0s\n",
      "[CV] ...................................... C=0.1, kernel=rbf -   0.0s\n",
      "[CV] C=1.0, kernel=rbf ...............................................\n",
      "[CV] ...................................... C=0.1, kernel=rbf -   0.0s\n",
      "[CV] C=1.0, kernel=linear ............................................\n",
      "[CV] C=10.0, kernel=rbf ..............................................\n",
      "[CV] ................................... C=1.0, kernel=linear -   0.0s\n",
      "[CV] C=1.0, kernel=linear ............................................\n",
      "[CV] ...................................... C=1.0, kernel=rbf -   0.0s\n",
      "[CV] ...................................... C=0.1, kernel=rbf -   0.0s\n",
      "[CV] ..................................... C=10.0, kernel=rbf -   0.0s\n",
      "[CV] C=0.1, kernel=linear ............................................\n",
      "[CV] C=10.0, kernel=linear ...........................................\n",
      "[CV] ................................... C=1.0, kernel=linear -   0.0s\n",
      "[CV] C=10.0, kernel=rbf ..............................................\n",
      "[CV] C=1.0, kernel=rbf ...............................................\n",
      "[CV] ................................... C=0.1, kernel=linear -   0.0s\n",
      "[CV] .................................. C=10.0, kernel=linear -   0.0s\n",
      "[CV] C=0.1, kernel=linear ............................................\n",
      "[CV] C=10.0, kernel=linear ...........................................\n",
      "[CV] ................................... C=0.1, kernel=linear -   0.0s\n",
      "[CV] ...................................... C=1.0, kernel=rbf -   0.0s\n",
      "[CV] ..................................... C=10.0, kernel=rbf -   0.0s\n",
      "[CV] C=0.1, kernel=linear ............................................\n",
      "[CV] C=1.0, kernel=linear ............................................\n",
      "[CV] C=10.0, kernel=rbf ..............................................\n",
      "[CV] .................................. C=10.0, kernel=linear -   0.0s\n",
      "[CV] C=10.0, kernel=linear ...........................................\n",
      "[CV] ................................... C=1.0, kernel=linear -   0.0s\n",
      "[CV] .................................. C=10.0, kernel=linear -   0.0s\n",
      "[CV] ..................................... C=10.0, kernel=rbf -   0.0s\n",
      "[CV] ................................... C=0.1, kernel=linear -   0.0s\n",
      "Grid Search took 0.5599431991577148 seconds to run\n",
      "\n",
      " Best estimator params was SVC(C=10.0, cache_size=200, class_weight=None, coef0=0.0,\n",
      "  decision_function_shape=None, degree=3, gamma='auto', kernel='linear',\n",
      "  max_iter=-1, probability=True,\n",
      "  random_state=<mtrand.RandomState object at 0x106397048>, shrinking=True,\n",
      "  tol=0.001, verbose=False) \n",
      "\n",
      "\n",
      " Best estimator score was 0.9919223045 \n",
      "\n"
     ]
    },
    {
     "name": "stderr",
     "output_type": "stream",
     "text": [
      "[Parallel(n_jobs=-1)]: Done  24 out of  24 | elapsed:    0.3s finished\n"
     ]
    }
   ],
   "source": [
    "# Learn to predict each class against the other\n",
    "start_time = time.time()\n",
    "\n",
    "if method == 'svm':\n",
    "    \n",
    "    param_grid = {'kernel':['rbf','linear'], 'C': list(float(10)**np.arange(-2,2)),\n",
    "                 }\n",
    "    \n",
    "    svm_clf = svm.SVC(kernel='linear', probability=True,\n",
    "                                     random_state=random_state)\n",
    "    clf =GridSearchCV(svm_clf, param_grid, scoring='roc_auc', fit_params=None, n_jobs=-1, iid=True, refit=True, \n",
    "    verbose=2, pre_dispatch='2*n_jobs', error_score='raise')\n",
    "    \n",
    "    y_score = clf.fit(X_train, y_train).predict_proba(X_test)\n",
    "\n",
    "\n",
    "\n",
    "if method == 'bnb':\n",
    "\n",
    "    param_grid = {'alpha':[1e-3, 1e-1], 'fit_prior': [True],\n",
    "                 }\n",
    "\n",
    "    mnb  = BernoulliNB( )\n",
    "\n",
    "    clf =GridSearchCV(mnb, param_grid, scoring='roc_auc', fit_params=None, n_jobs=-1, iid=True, refit=True, \n",
    "    verbose=2, pre_dispatch='2*n_jobs', error_score='raise').fit(X_train, y_train)\n",
    "    \n",
    "    mnb = clf.best_estimator_.fit(X_train, y_train)#.feature_log_prob_(X_test)\n",
    "    y_score = mnb.predict_proba(X_test)\n",
    "    \n",
    "if method == 'rf':\n",
    "    \n",
    "    param_grid = {'criterion': ['gini','entropy'], 'n_estimators': [4,5,3],\n",
    "      'max_features': [\"auto\",10,15,6], \"bootstrap\": [ False],\n",
    "        \"min_samples_leaf\": [4,8],'max_depth':[4,5,6], \n",
    "#                   \"class_weight\": ['balanced']\n",
    "              }\n",
    "    rforest  = RandomForestClassifier( )\n",
    "    clf =GridSearchCV(rforest, param_grid, scoring='roc_auc', fit_params=None, n_jobs=8, iid=True, refit=True, \n",
    "        verbose=3, pre_dispatch='2*n_jobs', error_score='raise').fit(X_train, y_train)\n",
    "    \n",
    "    rforest = clf.best_estimator_.fit(X_train, y_train)#.feature_log_prob_(X_test)\n",
    "    y_score = mnb.predict_proba(X_test)\n",
    "    \n",
    "elapsed_time =   time.time() - start_time \n",
    "print('Grid Search took %s seconds to run' % (elapsed_time))\n",
    "\n",
    "print('\\n Best estimator params was %s \\n' % str(clf.best_estimator_))\n",
    "print('\\n Best estimator score was %s \\n' % str(clf.best_score_))"
   ]
  },
  {
   "cell_type": "code",
   "execution_count": 309,
   "metadata": {
    "collapsed": false,
    "scrolled": true
   },
   "outputs": [
    {
     "data": {
      "text/plain": [
       "(114, 2)"
      ]
     },
     "execution_count": 309,
     "metadata": {},
     "output_type": "execute_result"
    }
   ],
   "source": [
    "y_score.shape"
   ]
  },
  {
   "cell_type": "code",
   "execution_count": 310,
   "metadata": {
    "collapsed": false
   },
   "outputs": [
    {
     "data": {
      "text/plain": [
       "((114, 2), (114,))"
      ]
     },
     "execution_count": 310,
     "metadata": {},
     "output_type": "execute_result"
    }
   ],
   "source": [
    "y_score.shape, y_test.shape"
   ]
  },
  {
   "cell_type": "code",
   "execution_count": null,
   "metadata": {
    "collapsed": false
   },
   "outputs": [],
   "source": []
  },
  {
   "cell_type": "code",
   "execution_count": 311,
   "metadata": {
    "collapsed": false
   },
   "outputs": [
    {
     "data": {
      "image/png": "[encoded data removed]",
      "text/plain": [
       "<matplotlib.figure.Figure at 0x112c5de10>"
      ]
     },
     "metadata": {},
     "output_type": "display_data"
    }
   ],
   "source": [
    "# Compute ROC curve and ROC area \n",
    "\n",
    "mean_tpr = 0.0\n",
    "mean_fpr = np.linspace(0, 1, 100)\n",
    "\n",
    "fpr, tpr, thresholds = roc_curve(y_test, y_score[:, 1])\n",
    "mean_tpr += interp(mean_fpr, fpr, tpr)\n",
    "mean_tpr[0] = 0.0\n",
    "roc_auc = auc(fpr, tpr)\n",
    "plt.plot(fpr, tpr, lw=lw, color='seagreen',\n",
    "         label='ROC (area = %0.2f)' % ( roc_auc))\n",
    "\n",
    "plt.plot([0, 1], [0, 1], linestyle='--', lw=lw, color='k',\n",
    "         label='Luck')\n",
    "\n",
    "mean_tpr /= clf.n_splits_\n",
    "mean_tpr[-1] = 1.0\n",
    "mean_auc = auc(mean_fpr, mean_tpr)\n",
    "#plt.plot(mean_fpr, mean_tpr, color='r', linestyle='--', label='Mean ROC (area = %0.2f)' % mean_auc, lw=lw)\n",
    "plt.xlim([0.0, 1.0])\n",
    "plt.ylim([0.0, 1.05])\n",
    "plt.xlabel('False Positive Rate')\n",
    "plt.ylabel('True Positive Rate')\n",
    "plt.title('Receiver operating characteristic example')\n",
    "plt.legend(loc=\"lower right\")\n",
    "plt.show()\n"
   ]
  },
  {
   "cell_type": "code",
   "execution_count": null,
   "metadata": {
    "collapsed": true
   },
   "outputs": [],
   "source": []
  },
  {
   "cell_type": "code",
   "execution_count": null,
   "metadata": {
    "collapsed": true
   },
   "outputs": [],
   "source": []
  },
  {
   "cell_type": "code",
   "execution_count": null,
   "metadata": {
    "collapsed": true
   },
   "outputs": [],
   "source": []
  },
  {
   "cell_type": "code",
   "execution_count": null,
   "metadata": {
    "collapsed": true
   },
   "outputs": [],
   "source": []
  },
  {
   "cell_type": "code",
   "execution_count": null,
   "metadata": {
    "collapsed": true
   },
   "outputs": [],
   "source": []
  }
 ],
 "metadata": {
  "kernelspec": {
   "display_name": "Python 3",
   "language": "python",
   "name": "python3"
  },
  "language_info": {
   "codemirror_mode": {
    "name": "ipython",
    "version": 3
   },
   "file_extension": ".py",
   "mimetype": "text/x-python",
   "name": "python",
   "nbconvert_exporter": "python",
   "pygments_lexer": "ipython3",
   "version": "3.5.1"
  }
 },
 "nbformat": 4,
 "nbformat_minor": 1
}
